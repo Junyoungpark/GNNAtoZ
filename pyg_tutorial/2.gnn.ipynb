{
 "cells": [
  {
   "attachments": {},
   "cell_type": "markdown",
   "metadata": {},
   "source": [
    "## Tutorial 2 : Build Graph Neural Networks with PyG\n",
    "\n",
    "In this tutorial, we will learn how to build a graph neural network with PyG.\n",
    "PyG offers various handy features when it comes to build GNNs, including\n",
    "- An extended `Sequential` module that can be used to build GNN\n",
    "- Pre-implemented and, also, optimized graph convolutional layers\n",
    "- Graph Neural Network implementations"
   ]
  },
  {
   "attachments": {},
   "cell_type": "markdown",
   "metadata": {},
   "source": [
    "### A limitation of `torch.nn.Sequential`"
   ]
  },
  {
   "attachments": {},
   "cell_type": "markdown",
   "metadata": {},
   "source": []
  }
 ],
 "metadata": {
  "kernelspec": {
   "display_name": "torch200-py39",
   "language": "python",
   "name": "python3"
  },
  "language_info": {
   "codemirror_mode": {
    "name": "ipython",
    "version": 3
   },
   "file_extension": ".py",
   "mimetype": "text/x-python",
   "name": "python",
   "nbconvert_exporter": "python",
   "pygments_lexer": "ipython3",
   "version": "3.9.16"
  },
  "orig_nbformat": 4
 },
 "nbformat": 4,
 "nbformat_minor": 2
}
