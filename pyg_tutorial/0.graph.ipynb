{
 "cells": [
  {
   "attachments": {},
   "cell_type": "markdown",
   "metadata": {},
   "source": [
    "## Tutorial 0 : Bring Your Own Graphs\n",
    "\n",
    "### Mathematical definition of graphs\n",
    "\n",
    "A graph is a structure amounting to a set of objects where some objects are \"related.\" The objects are often referred to as 'nodes' (or vertices), and the related pairs of vertices refer to as 'edges' (or lines). Mathematically speaking, there's no one unified framework for describing the graph. In this series of tutorials, we represent a graph as a tuple:\n",
    "\n",
    "$$\\mathcal{G}=<V,A>$$\n",
    "\n",
    "where the $V$ is the set of vertices, and $A$ is the adjacency matrix. The columns and rows indicate nodes. If the value of $A_{ij}$ is 1, then the edge exists between two nodes $i,j$. For the undirected graphs, the adjacent $A$ is symmetric.\n",
    "\n",
    "We can expand this setup to the directed graphs where the edges are directed. Depending on the edge's direction, the source node is the node where the edge starts from, and the destination node is the node where the edge reaches. In the directed graphs, the adjacent matrix $A$ can be asymmetric.\n",
    "\n",
    "Note that the index of nodes (and the edges) are arbitrary. This property becomes important in the computational process of GNN, namely permutations invariance."
   ]
  },
  {
   "attachments": {},
   "cell_type": "markdown",
   "metadata": {},
   "source": [
    "## Instantiating a graph in python\n",
    "\n",
    "In python, we have a couple of ways to build graphs. We focus on `networkx` and `PyG` for this purpose.\n",
    "\n",
    "`networkx` is one of the basic packages for handling graph format data in python. Hence almost every major graph-related packages have an interface to convert a framework-specific graph to the `networkx` equivalent one."
   ]
  },
  {
   "cell_type": "code",
   "execution_count": 1,
   "metadata": {},
   "outputs": [],
   "source": [
    "import networkx as nx\n",
    "import matplotlib.pyplot as plt"
   ]
  },
  {
   "cell_type": "code",
   "execution_count": 2,
   "metadata": {},
   "outputs": [
    {
     "data": {
      "image/png": "[encoded data removed]",
      "text/plain": [
       "<Figure size 640x480 with 1 Axes>"
      ]
     },
     "metadata": {},
     "output_type": "display_data"
    }
   ],
   "source": [
    "G = nx.Graph() # instantiate an empty container for handling graph\n",
    "G.add_node(1) # Add node in the graph\n",
    "G.add_node(2) # Add node in the graph\n",
    "G.add_node(3) # Add node in the graph\n",
    "nx.draw_networkx(G)"
   ]
  },
  {
   "attachments": {},
   "cell_type": "markdown",
   "metadata": {},
   "source": [
    "let's add some edges to the graph `G`"
   ]
  },
  {
   "cell_type": "code",
   "execution_count": 3,
   "metadata": {},
   "outputs": [
    {
     "data": {
      "image/png": "[encoded data removed]",
      "text/plain": [
       "<Figure size 640x480 with 1 Axes>"
      ]
     },
     "metadata": {},
     "output_type": "display_data"
    }
   ],
   "source": [
    "G.add_edge(1,2)\n",
    "G.add_edge(2,3)\n",
    "nx.draw_networkx(G)"
   ]
  },
  {
   "attachments": {},
   "cell_type": "markdown",
   "metadata": {},
   "source": [
    "## PyG as a computational framework over graphs\n",
    "\n",
    "Even though `networkx` supports a unified way for handling graphs in python, it is not friendly with the computations. This section mathematically defines the attributed graphs where the nodes (or/and) edges have the attributes and handling such attributed graphs in `PyG`.\n",
    "\n",
    "The attributed graph $\\mathcal{G}$ is often defined as follows:\n",
    "$$\\mathcal{G} = <V, E>$$\n",
    "\n",
    "where the $V$ is the **set** of node-related features (node features), and $E$ is the **set** of edge-related features (edge features). Assume the adjacency matrix $A$ is defined implicitly.\n",
    "\n",
    "We often assume all the node features for all nodes have the same feature dimensions for the simplicity of computations. Similarly, we make the same assumption on the edge features. \n",
    "\n",
    "In practice, we achieve such assumptions easily. In some applications, different nodes may be of different types. As a result, different nodes may have different input features. However, by appending some proper dimensional vectors in the beginning or end, we can treat them to be the same dimensional vectors.\n",
    "\n",
    "Let's instanitate an attributed graph with `PyG`."
   ]
  },
  {
   "cell_type": "code",
   "execution_count": 4,
   "metadata": {},
   "outputs": [],
   "source": [
    "import pip\n",
    "\n",
    "def import_or_install(package):\n",
    "    try:\n",
    "        __import__(package)\n",
    "    except ImportError:\n",
    "        pip.main(['install', package])"
   ]
  },
  {
   "cell_type": "code",
   "execution_count": 5,
   "metadata": {},
   "outputs": [
    {
     "name": "stdout",
     "output_type": "stream",
     "text": [
      "Requirement already satisfied: torch_geometric in /home/silab9/anaconda3/envs/torch200-py39/lib/python3.9/site-packages (2.3.0)\n",
      "Requirement already satisfied: scikit-learn in /home/silab9/anaconda3/envs/torch200-py39/lib/python3.9/site-packages (from torch_geometric) (1.2.2)\n",
      "Requirement already satisfied: requests in /home/silab9/anaconda3/envs/torch200-py39/lib/python3.9/site-packages (from torch_geometric) (2.28.1)\n",
      "Requirement already satisfied: numpy in /home/silab9/anaconda3/envs/torch200-py39/lib/python3.9/site-packages (from torch_geometric) (1.23.5)\n",
      "Requirement already satisfied: pyparsing in /home/silab9/anaconda3/envs/torch200-py39/lib/python3.9/site-packages (from torch_geometric) (3.0.9)\n",
      "Requirement already satisfied: jinja2 in /home/silab9/anaconda3/envs/torch200-py39/lib/python3.9/site-packages (from torch_geometric) (3.1.2)\n",
      "Requirement already satisfied: tqdm in /home/silab9/anaconda3/envs/torch200-py39/lib/python3.9/site-packages (from torch_geometric) (4.65.0)\n",
      "Requirement already satisfied: scipy in /home/silab9/anaconda3/envs/torch200-py39/lib/python3.9/site-packages (from torch_geometric) (1.10.1)\n",
      "Requirement already satisfied: psutil>=5.8.0 in /home/silab9/anaconda3/envs/torch200-py39/lib/python3.9/site-packages (from torch_geometric) (5.9.5)\n",
      "Requirement already satisfied: MarkupSafe>=2.0 in /home/silab9/anaconda3/envs/torch200-py39/lib/python3.9/site-packages (from jinja2->torch_geometric) (2.1.1)\n",
      "Requirement already satisfied: idna<4,>=2.5 in /home/silab9/anaconda3/envs/torch200-py39/lib/python3.9/site-packages (from requests->torch_geometric) (3.4)\n",
      "Requirement already satisfied: urllib3<1.27,>=1.21.1 in /home/silab9/anaconda3/envs/torch200-py39/lib/python3.9/site-packages (from requests->torch_geometric) (1.26.15)\n",
      "Requirement already satisfied: certifi>=2017.4.17 in /home/silab9/anaconda3/envs/torch200-py39/lib/python3.9/site-packages (from requests->torch_geometric) (2022.12.7)\n",
      "Requirement already satisfied: charset-normalizer<3,>=2 in /home/silab9/anaconda3/envs/torch200-py39/lib/python3.9/site-packages (from requests->torch_geometric) (2.0.4)\n",
      "Requirement already satisfied: joblib>=1.1.1 in /home/silab9/anaconda3/envs/torch200-py39/lib/python3.9/site-packages (from scikit-learn->torch_geometric) (1.2.0)\n",
      "Requirement already satisfied: threadpoolctl>=2.0.0 in /home/silab9/anaconda3/envs/torch200-py39/lib/python3.9/site-packages (from scikit-learn->torch_geometric) (3.1.0)\n"
     ]
    }
   ],
   "source": [
    "! pip install torch_geometric\n",
    "\n",
    "import torch_geometric as pyg\n",
    "from torch_geometric.data import Data\n",
    "import torch"
   ]
  },
  {
   "cell_type": "code",
   "execution_count": 6,
   "metadata": {},
   "outputs": [],
   "source": [
    "num_nodes = 4\n",
    "node_feat_dim = 9\n",
    "edge_feat_dim = 7"
   ]
  },
  {
   "cell_type": "code",
   "execution_count": 7,
   "metadata": {},
   "outputs": [
    {
     "name": "stdout",
     "output_type": "stream",
     "text": [
      "Data(x=[4, 9], edge_index=[2, 5], edge_attr=[5, 7])\n"
     ]
    }
   ],
   "source": [
    "# Node features\n",
    "x = torch.randint(size=(num_nodes, node_feat_dim), high=3) # [num_nodes, node_feat_dim]\n",
    "\n",
    "# edges 0->1, 0->2, 0->3, 1->3, 2->1\n",
    "u, v = torch.tensor([0, 0, 0, 1, 2]), torch.tensor([1, 2, 3, 3, 1])\n",
    "edge_index = torch.stack([u, v], dim=0) # [2, num_edges]\n",
    "num_edges = edge_index.shape[1]\n",
    "\n",
    "# Edge featurs\n",
    "edge_attr = torch.randn(size=(edge_index.shape[1], \n",
    "                              edge_feat_dim)) # [num_edges, edge_feat_dim]\n",
    "\n",
    "\n",
    "g = Data(x=x, # node feature matrix\n",
    "         edge_index=edge_index,\n",
    "         edge_attr=edge_attr)\n",
    "print(g)"
   ]
  },
  {
   "attachments": {},
   "cell_type": "markdown",
   "metadata": {},
   "source": [
    "## Querying attributes of graph\n",
    "\n",
    "We've assigned the node features as `x` and edge features as `edge_attr` to the graph `G`. We can access them as follows:"
   ]
  },
  {
   "cell_type": "code",
   "execution_count": 8,
   "metadata": {},
   "outputs": [
    {
     "name": "stdout",
     "output_type": "stream",
     "text": [
      "Node features \n",
      " size: torch.Size([4, 9]) \n",
      " values: \n",
      " tensor([[0, 1, 1, 1, 0, 0, 2, 1, 1],\n",
      "        [1, 2, 1, 1, 0, 1, 1, 1, 0],\n",
      "        [0, 2, 2, 2, 1, 2, 2, 2, 2],\n",
      "        [2, 1, 1, 2, 0, 1, 1, 2, 1]])\n",
      "Edge features: \n",
      " size: torch.Size([5, 7]) \n",
      " values: \n",
      " tensor([[ 0.9094, -0.2969, -0.6448,  0.3414,  1.8580, -0.0209,  0.0296],\n",
      "        [-0.4608,  1.2474, -1.7726,  0.5090,  0.5328,  0.5101,  0.3770],\n",
      "        [ 0.2079, -2.5045,  2.1215, -0.2385, -1.6677,  0.2361, -1.0607],\n",
      "        [-0.3335, -0.6431, -1.2379, -0.3044,  1.1160, -0.8624,  0.7169],\n",
      "        [-0.2434,  1.0473, -0.8791,  0.1205,  0.6835,  1.4785,  0.9577]])\n"
     ]
    }
   ],
   "source": [
    "print(f\"Node features \\n size: {g.x.shape} \\n values: \\n {g.x}\") # equivalently g['x']\n",
    "\n",
    "print(f\"Edge features: \\n size: {g.edge_attr.shape} \\n values: \\n {g.edge_attr}\")\n"
   ]
  },
  {
   "attachments": {},
   "cell_type": "markdown",
   "metadata": {},
   "source": [
    "## Querying the structure of the graph\n",
    "\n",
    "When it comes to implementing GNN, querying the statistics of graph, such as number of nodes, edges, and the degree of nodes, are often required. In this section, we will see how to query the graph structure with `PyG`.\n"
   ]
  },
  {
   "cell_type": "code",
   "execution_count": 9,
   "metadata": {},
   "outputs": [
    {
     "name": "stdout",
     "output_type": "stream",
     "text": [
      "Number of Nodes: 4\n",
      "Number of edges: 5\n",
      "Node feature dimension: 9\n",
      "Edge feature dimension: 7\n"
     ]
    }
   ],
   "source": [
    "# number of nodes in the graph\n",
    "print(f\"Number of Nodes: {g.num_nodes}\")\n",
    "\n",
    "# number of edge in the graph\n",
    "print(f\"Number of edges: {g.num_edges}\")\n",
    "\n",
    "# node feature dimension\n",
    "print(f\"Node feature dimension: {g.num_node_features}\")\n",
    "\n",
    "# edge feature dimension\n",
    "print(f\"Edge feature dimension: {g.num_edge_features}\")"
   ]
  },
  {
   "attachments": {},
   "cell_type": "markdown",
   "metadata": {},
   "source": [
    "## Assigning arbitrary attributes to the graph\n",
    "\n",
    "From time to time, we may want to store additional information to the graph. For example, the prediction label of the graph, or the graph-level features In this section, we will see how to assign arbitrary attributes to the graph with `PyG`."
   ]
  },
  {
   "cell_type": "code",
   "execution_count": 10,
   "metadata": {},
   "outputs": [
    {
     "name": "stdout",
     "output_type": "stream",
     "text": [
      "Data(x=[4, 9], edge_index=[2, 5], edge_attr=[5, 7], y_node=[4, 1], y_graph=[1, 1])\n"
     ]
    }
   ],
   "source": [
    "g = Data(x=x, # node feature matrix\n",
    "         edge_index=edge_index,\n",
    "         edge_attr=edge_attr,\n",
    "         y_node=torch.randn(size=(num_nodes, 1)), # node label\n",
    "         y_graph=torch.randn(size=(1, 1)), # graph label       \n",
    "         )\n",
    "print(g)"
   ]
  },
  {
   "cell_type": "code",
   "execution_count": 11,
   "metadata": {},
   "outputs": [
    {
     "name": "stdout",
     "output_type": "stream",
     "text": [
      "tensor([[-0.8841],\n",
      "        [-0.2631],\n",
      "        [-0.0688],\n",
      "        [-1.2680]])\n"
     ]
    }
   ],
   "source": [
    "print(g.y_node)"
   ]
  },
  {
   "attachments": {},
   "cell_type": "markdown",
   "metadata": {},
   "source": [
    "## Device control of `Data` object\n",
    "\n",
    "In pytorch, we can move the data to the GPU by calling `to` method. In `PyG`, we can do the same thing by calling `to` method. In this section, we will see how to move the `Data` object to the GPU."
   ]
  },
  {
   "cell_type": "code",
   "execution_count": 12,
   "metadata": {},
   "outputs": [
    {
     "name": "stdout",
     "output_type": "stream",
     "text": [
      "cpu\n",
      "cuda:0\n"
     ]
    }
   ],
   "source": [
    "# Move the graph to CPU\n",
    "g = g.to('cpu')\n",
    "print(g.x.device)\n",
    "\n",
    "# Move the graph to GPU\n",
    "g = g.to('cuda:0') # Move the graph to the first CUDA device -- i.e., GPU 0\n",
    "print(g.x.device)"
   ]
  },
  {
   "attachments": {},
   "cell_type": "markdown",
   "metadata": {},
   "source": [
    "More detailed explanation of `Data` can be found from the official documentation of [link](https://pytorch-geometric.readthedocs.io/en/latest/generated/torch_geometric.data.Data.html#torch_geometric.data.Data)"
   ]
  },
  {
   "attachments": {},
   "cell_type": "markdown",
   "metadata": {},
   "source": [
    "## Batching graph with `Batch`\n",
    "\n",
    "Unlike tensor-based data, graph-based data has a variable size of the graph. \n",
    "Due to this structural differences, conventional way of batching -- i.e., compile the tensors over the new axis -- is not applicable to the graph-based data. Instead, graphs are batched with one big (disconnected) graph. In this section, we will see how to batch the graph with `Batch` object."
   ]
  },
  {
   "cell_type": "code",
   "execution_count": 13,
   "metadata": {},
   "outputs": [],
   "source": [
    "def generate_random_graph(num_node: int, \n",
    "                          p_edges: float=0.1,\n",
    "                          node_feat_dim: int=3,\n",
    "                          edge_feat_dim: int=5):\n",
    "    \n",
    "    x = torch.randn(size=(num_node, node_feat_dim))\n",
    "    # assume directional and potentially self-loop\n",
    "    num_edges = int(num_node * num_node * p_edges)\n",
    "    \n",
    "    # Generate random edge index\n",
    "    # (1) Generate all possible edges\n",
    "    edge_index = torch.stack([torch.arange(num_node).repeat(num_node),\n",
    "                              torch.arange(num_node).repeat(num_node)], dim=0)\n",
    "    # (2) Shuffle the edges and take the first 'num_edges' edges\n",
    "    edge_index = edge_index[:, torch.randperm(edge_index.shape[1])]\n",
    "    edge_index = edge_index[:, :num_edges]\n",
    "    \n",
    "    edge_attr = torch.randn(size=(num_edges, edge_feat_dim))\n",
    "    \n",
    "    dummy_attr = torch.randn(size=(num_node, 1))\n",
    "    \n",
    "    return Data(x=x, edge_index=edge_index, edge_attr=edge_attr,\n",
    "                dummy_attr=dummy_attr)"
   ]
  },
  {
   "cell_type": "code",
   "execution_count": 14,
   "metadata": {},
   "outputs": [
    {
     "name": "stdout",
     "output_type": "stream",
     "text": [
      "Graph 1: Data(x=[7, 3], edge_index=[2, 4], edge_attr=[4, 5], dummy_attr=[7, 1])\n",
      "Graph 2: Data(x=[8, 3], edge_index=[2, 6], edge_attr=[6, 5], dummy_attr=[8, 1])\n",
      "Graph 3: Data(x=[5, 3], edge_index=[2, 2], edge_attr=[2, 5], dummy_attr=[5, 1])\n",
      "Graph 4: Data(x=[11, 3], edge_index=[2, 12], edge_attr=[12, 5], dummy_attr=[11, 1])\n"
     ]
    }
   ],
   "source": [
    "num_gs = 4\n",
    "num_nodes = [7, 8, 5, 11]\n",
    "\n",
    "gs = [generate_random_graph(num_node=num_node) for num_node in num_nodes]\n",
    "for i, g in enumerate(gs):\n",
    "    print(f\"Graph {i+1}: {g}\")"
   ]
  },
  {
   "cell_type": "code",
   "execution_count": 15,
   "metadata": {},
   "outputs": [
    {
     "name": "stdout",
     "output_type": "stream",
     "text": [
      "<class 'torch_geometric.data.batch.DataBatch'>\n",
      "DataBatch(x=[31, 3], edge_index=[2, 24], edge_attr=[24, 5], batch=[31], ptr=[5])\n"
     ]
    }
   ],
   "source": [
    "from torch_geometric.data import Batch\n",
    "\n",
    "batched_g = Batch.from_data_list(gs, \n",
    "                                 exclude_keys=['dummy_attr'])\n",
    "print(type(batched_g)) # Batch is a subclass of Data -- this explains so much!)\n",
    "print(batched_g)"
   ]
  },
  {
   "attachments": {},
   "cell_type": "markdown",
   "metadata": {},
   "source": [
    "## Querying the batched graph statistics"
   ]
  },
  {
   "cell_type": "code",
   "execution_count": 16,
   "metadata": {},
   "outputs": [
    {
     "name": "stdout",
     "output_type": "stream",
     "text": [
      "Number of batched graphs: 4\n",
      "Number of cumulative nodes: tensor([ 0,  7, 15, 20, 31])\n",
      "Batch indicators: tensor([0, 0, 0, 0, 0, 0, 0, 1, 1, 1, 1, 1, 1, 1, 1, 2, 2, 2, 2, 2, 3, 3, 3, 3,\n",
      "        3, 3, 3, 3, 3, 3, 3])\n"
     ]
    }
   ],
   "source": [
    "print(f\"Number of batched graphs: {batched_g.num_graphs}\")\n",
    "print(f\"Number of cumulative nodes: {batched_g.ptr}\")\n",
    "print(f\"Batch indicators: {batched_g.batch}\")"
   ]
  }
 ],
 "metadata": {
  "kernelspec": {
   "display_name": "torch200-py39",
   "language": "python",
   "name": "python3"
  },
  "language_info": {
   "codemirror_mode": {
    "name": "ipython",
    "version": 3
   },
   "file_extension": ".py",
   "mimetype": "text/x-python",
   "name": "python",
   "nbconvert_exporter": "python",
   "pygments_lexer": "ipython3",
   "version": "3.9.16"
  },
  "orig_nbformat": 4
 },
 "nbformat": 4,
 "nbformat_minor": 2
}
