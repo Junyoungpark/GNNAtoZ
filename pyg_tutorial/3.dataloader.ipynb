{
 "cells": [
  {
   "attachments": {},
   "cell_type": "markdown",
   "metadata": {},
   "source": [
    "## Tutorial 3 : Interfacing Graph `Data` with Pytorch Geometric `DataLoader`\n",
    "\n",
    "In this tutorial, we will learn how to use Pytorch Geometric `DataLoader` to load graph data for mini-batch training. \\\n",
    "Q) Why we want to use Pytorch Geometric `DataLoader`? \\\n",
    "A) It is inherited from Pytorch `DataLoader`, which means it is easy to use + supported by Pytorch community.\n",
    "\n",
    "Let's start the tutorial by implementing graph dataset."
   ]
  },
  {
   "cell_type": "code",
   "execution_count": 1,
   "metadata": {},
   "outputs": [],
   "source": [
    "import warnings\n",
    "warnings.filterwarnings(action='ignore') "
   ]
  },
  {
   "cell_type": "code",
   "execution_count": 2,
   "metadata": {},
   "outputs": [],
   "source": [
    "import torch\n",
    "from torch.utils.data import Dataset\n",
    "from torch_geometric.utils import erdos_renyi_graph\n",
    "from torch_geometric.data import Data"
   ]
  },
  {
   "cell_type": "code",
   "execution_count": 3,
   "metadata": {},
   "outputs": [],
   "source": [
    "def generate_er_graph(num_nodes:int, \n",
    "                      edge_prob:float,\n",
    "                      feat_dim:int=16):\n",
    "    \n",
    "    edge_idx = erdos_renyi_graph(num_nodes=num_nodes,edge_prob=edge_prob)\n",
    "    x = torch.randn(num_nodes, feat_dim)\n",
    "    y = (x.sum() / num_nodes).view(1,1)\n",
    "    dummy = torch.randn(num_nodes, 32)\n",
    "    g = Data(x=x, edge_index=edge_idx, y=y, dummy=dummy)\n",
    "    return g"
   ]
  },
  {
   "cell_type": "code",
   "execution_count": 4,
   "metadata": {},
   "outputs": [],
   "source": [
    "class ERDataset(Dataset):\n",
    "    \n",
    "    def __init__(self, \n",
    "                 num_graphs:int,\n",
    "                 min_num_nodes: int = 32,\n",
    "                 max_num_nodes: int = 64,\n",
    "                 edge_prob: float = 0.3):\n",
    "        \n",
    "        num_nodes = torch.randint(min_num_nodes, max_num_nodes, (num_graphs,))\n",
    "        self.gs = [\n",
    "            generate_er_graph(num_nodes[i], edge_prob) for i in range(num_graphs)\n",
    "        ]\n",
    "        \n",
    "    def __getitem__(self, index):\n",
    "        return self.gs[index]\n",
    "        \n",
    "    def __len__(self):\n",
    "        return len(self.gs)"
   ]
  },
  {
   "cell_type": "code",
   "execution_count": 5,
   "metadata": {},
   "outputs": [
    {
     "name": "stdout",
     "output_type": "stream",
     "text": [
      "Data(x=[60, 16], edge_index=[2, 1038], y=[1, 1], dummy=[60, 32])\n"
     ]
    }
   ],
   "source": [
    "dataset = ERDataset(128)\n",
    "print(dataset[0])"
   ]
  },
  {
   "attachments": {},
   "cell_type": "markdown",
   "metadata": {},
   "source": [
    "## PyG `DataLoader`\n",
    "\n",
    "As mentioned earlier, PyG `DataLoader` is inherited from Pytorch `DataLoader`. Meaning that we can\n",
    "pass any arguments or keyword agruments that Pytorch `DataLoader` supports. Furthermore, PyG `DataLoader`\n",
    "supports graph (mini) batching using custom `collate_fn` -- basically, an well engineering version of `Batch.from_data_list`."
   ]
  },
  {
   "cell_type": "code",
   "execution_count": 6,
   "metadata": {},
   "outputs": [
    {
     "name": "stdout",
     "output_type": "stream",
     "text": [
      "DataBatch(x=[1429, 16], edge_index=[2, 19360], y=[32, 1], batch=[1429], ptr=[33])\n",
      "Number of graphs in batch: 32\n"
     ]
    }
   ],
   "source": [
    "from torch_geometric.data import DataLoader\n",
    "\n",
    "dataloader = DataLoader(dataset, \n",
    "                        follow_batch=['batch'], # we can specify which attributes to follow to form \"batch\" attribute\n",
    "                        exclude_keys=['dummy'], # we can specify which attributes can be excluded from the batch\n",
    "                        batch_size=32, shuffle=True)\n",
    "batched_g = next(iter(dataloader))\n",
    "\n",
    "print(batched_g)\n",
    "print(f'Number of graphs in batch: {batched_g.num_graphs}')"
   ]
  },
  {
   "attachments": {},
   "cell_type": "markdown",
   "metadata": {},
   "source": [
    "## Feed Batched Data to a GNN model"
   ]
  },
  {
   "cell_type": "code",
   "execution_count": 7,
   "metadata": {},
   "outputs": [
    {
     "name": "stdout",
     "output_type": "stream",
     "text": [
      "torch.Size([1429, 1])\n"
     ]
    }
   ],
   "source": [
    "from torch_geometric.nn.models import GCN\n",
    "\n",
    "model = GCN(in_channels=16,\n",
    "            hidden_channels=32, \n",
    "            out_channels=1,\n",
    "            num_layers=3)\n",
    "\n",
    "pred = model(batched_g.x, batched_g.edge_index)\n",
    "print(pred.shape) # [#. total nodes, output dim]"
   ]
  }
 ],
 "metadata": {
  "kernelspec": {
   "display_name": "torch200-py39",
   "language": "python",
   "name": "python3"
  },
  "language_info": {
   "codemirror_mode": {
    "name": "ipython",
    "version": 3
   },
   "file_extension": ".py",
   "mimetype": "text/x-python",
   "name": "python",
   "nbconvert_exporter": "python",
   "pygments_lexer": "ipython3",
   "version": "3.9.16"
  },
  "orig_nbformat": 4
 },
 "nbformat": 4,
 "nbformat_minor": 2
}
