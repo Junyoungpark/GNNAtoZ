{
 "cells": [
  {
   "cell_type": "markdown",
   "metadata": {},
   "source": [
    "## Turial 0 : Bring Your Own Graphs\n",
    "\n",
    "### Mathematical definition of graphs\n",
    "\n",
    "A graph is a structure amounting to a set of objects where some objects are \"related.\"\n",
    "The objects are often referred to as 'nodes' (or vertices), and the related pairs of vertices refer to as 'edges' (or lines).\n",
    "Mathematically speaking, there's no one unified framework for describing the graph. In this series of tutorials, we represent a graph as a tuple:\n",
    "\n",
    "$$\\mathcal{G}=<V,A>$$\n",
    "\n",
    "where the $V$ is the set of vertices, and $A$ is the adjacency matrix. The columns and rows indicate nodes. If the value of $A_{ij}$ is 1.0, then the edge exists between two nodes $i,j$. For the undirected graphs, the adjacent $A$ is symmetric.\n",
    "\n",
    "We can expand this setup to the directed graphs where the edges are directed. Depending on the edge's direction, the source node is the node where the edge starts from, and the destination node is the node where the edge reaches. In the directed graphs, the adjacent matrix $A$ can be asymmetric.\n",
    "\n",
    "Note that the index of nodes (and the edges) are arbitrary. This property becomes important in the computational process of GNN, namely permutations invariance."
   ]
  },
  {
   "cell_type": "markdown",
   "metadata": {},
   "source": [
    "## Instantiating a graph in python\n",
    "\n",
    "In python, we have a couple of ways to build graphs. We focus on `networkx` and `dgl` for this purpose.\n",
    "\n",
    "`networkx` is one of the basic packages for handling graph format data in python. Hence almost every major graph-related packages have an interface to convert\n",
    "a framework-specific graph to the `networkx` equivalent one."
   ]
  },
  {
   "cell_type": "code",
   "execution_count": 13,
   "metadata": {},
   "outputs": [],
   "source": [
    "import networkx as nx\n",
    "import matplotlib.pyplot as plt"
   ]
  },
  {
   "cell_type": "code",
   "execution_count": 14,
   "metadata": {},
   "outputs": [
    {
     "data": {
      "image/png": "[encoded data removed]",
      "text/plain": [
       "<Figure size 432x288 with 1 Axes>"
      ]
     },
     "metadata": {},
     "output_type": "display_data"
    }
   ],
   "source": [
    "G = nx.Graph() # instantiate an empty container for handling graph\n",
    "G.add_node(1) # Add node in the graph\n",
    "G.add_node(2) # Add node in the graph\n",
    "G.add_node(3) # Add node in the graph\n",
    "\n",
    "nx.draw(G)"
   ]
  },
  {
   "cell_type": "markdown",
   "metadata": {},
   "source": [
    "let's add some edges to the graph `G`"
   ]
  },
  {
   "cell_type": "code",
   "execution_count": 20,
   "metadata": {},
   "outputs": [
    {
     "data": {
      "image/png": "[encoded data removed]",
      "text/plain": [
       "<Figure size 432x288 with 1 Axes>"
      ]
     },
     "metadata": {},
     "output_type": "display_data"
    }
   ],
   "source": [
    "G.add_edge(1,2)\n",
    "G.add_edge(2,3)\n",
    "nx.draw(G)"
   ]
  },
  {
   "cell_type": "markdown",
   "metadata": {},
   "source": [
    "## DGL as a computational framework over graphs\n",
    "\n",
    "Even though `networkx` supports a unified way for handling graphs in python, it is not friendly with the computations. This section mathematically defines the attributed graphs where the nodes (or/and) edges have the attributes and handling such attributed graphs in `dgl`.\n",
    "\n",
    "The attributed graph $\\mathcal{G}$ is often defined as follows:\n",
    "$$\\mathcal{G} = <V, E>$$\n",
    "\n",
    "where the $V$ is the **set** of node-related features (node features), and $E$ is the **set** of edge-related features (edge features). Assume the adjacency matrix $A$ is defined implicitly.\n",
    "\n",
    "We often assume all the node features for all nodes have the same feature dimensions for the simplicity of computations. Similarly, we put the same assumption on the edge features. \n",
    "\n",
    "In practice, we achieve such assumptions easily. In some applications, different nodes may be of different types. As a result, different nodes may have different input features. However, by appending some proper dimensional vectors in the front or last, we can treat them to be the same dimensional vectors.\n",
    "\n",
    "Let's instanitate an attributed graph with `dgl`."
   ]
  },
  {
   "cell_type": "code",
   "execution_count": 29,
   "metadata": {},
   "outputs": [],
   "source": [
    "import dgl\n",
    "import torch"
   ]
  },
  {
   "cell_type": "code",
   "execution_count": 30,
   "metadata": {},
   "outputs": [
    {
     "name": "stdout",
     "output_type": "stream",
     "text": [
      "Graph(num_nodes=4, num_edges=4,\n",
      "      ndata_schemes={}\n",
      "      edata_schemes={})\n"
     ]
    }
   ],
   "source": [
    "# edges 0->1, 0->2, 0->3, 1->3\n",
    "u, v = torch.tensor([0, 0, 0, 1]), torch.tensor([1, 2, 3, 3])\n",
    "g = dgl.graph((u, v))\n",
    "print(g) # number of nodes are inferred from the max node IDs in the given edges"
   ]
  },
  {
   "cell_type": "markdown",
   "metadata": {},
   "source": [
    "There are a few possible ways for generating graph through `dgl`.\n",
    "The above example is a case where we generate the graph by specifying the edges only.\n",
    "In this case, `dgl` automatically infers how many nodes will be.\n",
    "\n",
    "If you want to specify the number of nodes, then you can also do the following."
   ]
  },
  {
   "cell_type": "code",
   "execution_count": 31,
   "metadata": {},
   "outputs": [
    {
     "name": "stdout",
     "output_type": "stream",
     "text": [
      "Graph(num_nodes=8, num_edges=4,\n",
      "      ndata_schemes={}\n",
      "      edata_schemes={})\n"
     ]
    }
   ],
   "source": [
    "g = dgl.graph((u, v), num_nodes=8) # the same edge connectivities but have 8 nodes\n",
    "print(g)"
   ]
  },
  {
   "cell_type": "markdown",
   "metadata": {},
   "source": [
    "## Adding features on the `dgl.graph`\n",
    "\n",
    "One attractive feature of the dgl graph (actually the same for the `networkx`) is to allow users to add arbitrary `vector-represented` features on the nodes and edges. Let's add some feature vectors on the graphs."
   ]
  },
  {
   "cell_type": "code",
   "execution_count": 32,
   "metadata": {},
   "outputs": [],
   "source": [
    "node_feat_dim = 7 # the node feature dim\n",
    "edge_feat_dim = 3 # the edge feature dim"
   ]
  },
  {
   "cell_type": "code",
   "execution_count": 36,
   "metadata": {},
   "outputs": [
    {
     "name": "stdout",
     "output_type": "stream",
     "text": [
      "Graph(num_nodes=8, num_edges=4,\n",
      "      ndata_schemes={'feat': Scheme(shape=(7,), dtype=torch.float32)}\n",
      "      edata_schemes={'feat': Scheme(shape=(3,), dtype=torch.float32)})\n"
     ]
    }
   ],
   "source": [
    "g.ndata['feat'] = torch.randn(g.number_of_nodes(), node_feat_dim)\n",
    "g.edata['feat'] = torch.randn(g.number_of_edges(), edge_feat_dim)\n",
    "print(g)"
   ]
  }
 ],
 "metadata": {
  "kernelspec": {
   "display_name": "Python 3",
   "language": "python",
   "name": "python3"
  },
  "language_info": {
   "codemirror_mode": {
    "name": "ipython",
    "version": 3
   },
   "file_extension": ".py",
   "mimetype": "text/x-python",
   "name": "python",
   "nbconvert_exporter": "python",
   "pygments_lexer": "ipython3",
   "version": "3.7.7"
  }
 },
 "nbformat": 4,
 "nbformat_minor": 4
}
